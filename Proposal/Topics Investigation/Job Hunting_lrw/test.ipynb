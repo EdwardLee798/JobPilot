{
 "cells": [
  {
   "cell_type": "code",
   "execution_count": null,
   "id": "d1e73254",
   "metadata": {},
   "outputs": [],
   "source": [
    "import os\n",
    "import getpass\n",
    "from langchain_community.document_loaders import CSVLoader\n",
    "from langchain.chat_models import init_chat_model\n",
    "from langchain_community.embeddings import BaichuanTextEmbeddings\n",
    "from langchain_core.vectorstores import InMemoryVectorStore\n",
    "from langchain_text_splitters import RecursiveCharacterTextSplitter\n",
    "os.environ[\"LANGSMITH_TRACING\"] = \"true\"\n",
    "os.environ[\"LANGSMITH_API_KEY\"] = getpass.getpass()\n",
    "# embedding model\n",
    "os.environ[\"BAICHUAN_API_KEY\"] = \"\"\n",
    "# llm model\n",
    "os.environ[\"DEEPSEEK_API_KEY\"] = \"\""
   ]
  },
  {
   "cell_type": "code",
   "execution_count": null,
   "id": "66d538d9",
   "metadata": {},
   "outputs": [
    {
     "name": "stdout",
     "output_type": "stream",
     "text": [
      "company_name: 深圳深度商智科技\n",
      "job_title: AI智能体工程师\n",
      "base: 深圳\n",
      "job_desc: AI智能体工程师招聘岗位说明\n",
      " \n",
      "岗位职责\n",
      " \n",
      "1.?智能体设计与开发：负责AI智能体的整体架构设计与核心算法开发，根据不同的业务场景和需求，运用机器学习、强化学习等技术，打造具备自主决策、任务执行能力的智能体。例如，开发用于客户服务场景的智能聊天体，能理解客户问题并精准回应；或是构建智能物流调度体，优化物流配送路径。\n",
      "2.?模型训练与优化：收集和整理相关数据，运用大数据处理技术和工具进行数据预处理，使用深度学习框架（如TensorFlow、PyTorch）对智能体模型\n",
      "{'source': './jobs.csv', 'row': 0}\n"
     ]
    }
   ],
   "source": [
    "# raw docs\n",
    "loader = CSVLoader(file_path='./jobs.csv', autodetect_encoding=True, csv_args={\n",
    "        \"delimiter\": \",\"})\n",
    "\n",
    "docs = []\n",
    "async for doc in loader.alazy_load():\n",
    "    docs.append(doc)\n",
    "print(docs[0].page_content[:300])\n",
    "print(docs[0].metadata)"
   ]
  },
  {
   "cell_type": "code",
   "execution_count": 21,
   "id": "6166acad",
   "metadata": {},
   "outputs": [
    {
     "data": {
      "text/plain": [
       "12"
      ]
     },
     "execution_count": 21,
     "metadata": {},
     "output_type": "execute_result"
    }
   ],
   "source": [
    "len(docs)"
   ]
  },
  {
   "cell_type": "code",
   "execution_count": null,
   "id": "f6a4ed9a",
   "metadata": {},
   "outputs": [],
   "source": [
    "# chunk\n",
    "text_splitter = RecursiveCharacterTextSplitter(\n",
    "    chunk_size=1000,  # chunk size (characters)\n",
    "    chunk_overlap=200,  # chunk overlap (characters)\n",
    "    add_start_index=True,  # track index in original document\n",
    ")\n",
    "all_splits = text_splitter.split_documents(docs)\n",
    "\n",
    "print(f\"Split blog post into {len(all_splits)} sub-documents.\")"
   ]
  },
  {
   "cell_type": "code",
   "execution_count": null,
   "id": "3ba643d3",
   "metadata": {},
   "outputs": [
    {
     "name": "stdout",
     "output_type": "stream",
     "text": [
      "['b2aadbec-87c3-4716-b73d-65608cec98fc', '1b6897fd-5d8a-4aa0-b007-36a4c6e9f186', 'c238f5c3-7053-4a15-a9b8-fa8e75cb6d4a']\n"
     ]
    }
   ],
   "source": [
    "# embed docs\n",
    "embeddings = BaichuanTextEmbeddings()\n",
    "vector_store = InMemoryVectorStore(embeddings)\n",
    "document_ids = vector_store.add_documents(documents=all_splits)\n",
    "\n",
    "print(document_ids[:3])"
   ]
  },
  {
   "cell_type": "code",
   "execution_count": null,
   "id": "df94cf45",
   "metadata": {},
   "outputs": [
    {
     "name": "stdout",
     "output_type": "stream",
     "text": [
      "你好！我是一个智能助手，专注于提供信息、解答问题、协助完成任务和提供建议。我可以帮助你处理各种问题，比如学习、工作、生活、技术、娱乐等方面。无论是需要查找资料、写作、翻译、计算，还是需要创意灵感或日常建议，我都可以尽力提供帮助。\n",
      "\n",
      "我没有个人情感或主观意识，所有的回答都基于已有的数据和算法。如果你有任何问题或需求，随时告诉我，我会尽力满足你的要求！ 😊\n"
     ]
    }
   ],
   "source": [
    "# DeepSeek_API_KEY = os.getenv(\"DEEPSEEK_API_KEY\")\n",
    "\n",
    "# from openai import OpenAI\n",
    " \n",
    "# # 初始化DeepSeek的API客户端\n",
    "# client = OpenAI(api_key=DeepSeek_API_KEY, base_url=\"https://api.deepseek.com\")\n",
    " \n",
    "# # 调用DeepSeek的API，生成回答\n",
    "# response = client.chat.completions.create(\n",
    "#     model=\"deepseek-chat\",\n",
    "#     messages=[\n",
    "#         {\"role\": \"system\", \"content\": \"你是乐于助人的助手，请根据用户的问题给出回答\"},\n",
    "#         {\"role\": \"user\", \"content\": \"你好，请你介绍一下你自己。\"},\n",
    "#     ],\n",
    "# )\n",
    " \n",
    "# # 打印模型最终的响应结果\n",
    "# print(response.choices[0].message.content)"
   ]
  },
  {
   "cell_type": "code",
   "execution_count": 45,
   "id": "2dfd87a8",
   "metadata": {},
   "outputs": [],
   "source": [
    "model = init_chat_model(model=\"deepseek-chat\", model_provider=\"deepseek\")  "
   ]
  },
  {
   "cell_type": "code",
   "execution_count": null,
   "id": "978e561d",
   "metadata": {},
   "outputs": [
    {
     "name": "stderr",
     "output_type": "stream",
     "text": [
      "d:\\miniconda3\\envs\\testenv\\lib\\site-packages\\langsmith\\client.py:290: LangSmithMissingAPIKeyWarning: API key must be provided when using hosted LangSmith API\n",
      "  warnings.warn(\n"
     ]
    },
    {
     "name": "stdout",
     "output_type": "stream",
     "text": [
      "You are an assistant for question-answering tasks. Use the following pieces of retrieved context to answer the question. If you don't know the answer, just say that you don't know. Use three sentences maximum and keep the answer concise.\n",
      "Question: (question goes here) \n",
      "Context: (context goes here) \n",
      "Answer:\n"
     ]
    }
   ],
   "source": [
    "from langchain import hub\n",
    "\n",
    "prompt = hub.pull(\"rlm/rag-prompt\", api_url=\"https://api.smith.langchain.com\")\n",
    "\n",
    "example_messages = prompt.invoke(\n",
    "    {\"context\": \"(context goes here)\", \"question\": \"(question goes here)\"}\n",
    ").to_messages()\n",
    "\n",
    "assert len(example_messages) == 1\n",
    "print(example_messages[0].content)"
   ]
  },
  {
   "cell_type": "code",
   "execution_count": null,
   "id": "78fc680f",
   "metadata": {},
   "outputs": [],
   "source": [
    "from langchain_core.documents import Document\n",
    "from typing_extensions import List, TypedDict\n",
    "\n",
    "class State(TypedDict):\n",
    "    question: str\n",
    "    context: List[Document]\n",
    "    answer: str\n",
    "\n",
    "def retrieve(state: State):\n",
    "    retrieved_docs = vector_store.similarity_search(state[\"question\"])\n",
    "    return {\"context\": retrieved_docs}\n",
    "\n",
    "\n",
    "def generate(state: State):\n",
    "    docs_content = \"\\n\\n\".join(doc.page_content for doc in state[\"context\"])\n",
    "    messages = prompt.invoke({\"question\": state[\"question\"], \"context\": docs_content})\n",
    "    response = llm.invoke(messages)\n",
    "    return {\"answer\": response.content}\n",
    "\n",
    "from langgraph.graph import START, StateGraph\n",
    "\n",
    "graph_builder = StateGraph(State).add_sequence([retrieve, generate])\n",
    "graph_builder.add_edge(START, \"retrieve\")\n",
    "graph = graph_builder.compile()"
   ]
  },
  {
   "cell_type": "code",
   "execution_count": 43,
   "id": "673202db",
   "metadata": {},
   "outputs": [
    {
     "name": "stdout",
     "output_type": "stream",
     "text": [
      "Context: [Document(id='f30da52d-ed39-40d9-8ecb-a14ba8d8ca22', metadata={'source': './jobs.csv', 'row': 8, 'start_index': 0}, page_content='\\ufeffcompany_name: 高德\\njob_title: 高德-大模型应用开发工程师-Agent方向\\nbase: 北京\\njob_desc: 职位描述\\n团队介绍：\\n交通智能团队正在寻找AI造梦师！加入极客天团，用代码重塑未来出行\\n团队故事：\\n我们是高德地图的的硬核极客天团，过去四年连续解锁交通科技树：\\n? 2021年 全球首个分钟级交通事件检测引擎（让堵车预警快过刷朋友圈）\\n? 2022年 红绿灯倒计时黑科技（拯救千万路怒症的神级操作）\\n? 2023年 V2X车车对话系统（让汽车学会\"社牛\"沟通）\\n? 2024年 AI领航红绿灯（比驾校教练更懂路的老司机）\\n现在，我们正在构建智能交通宇宙，等你来编写核心算法剧本！\\n\\n岗位职责：\\n1.负责开发模块化agent框架，整合交通动态数据（轨迹数据、UGC图文、行业信息等），实现多轮交互、实时决策与多智能体协作，为用户智慧出行提供决策支持；\\n2.构建和优化分布式推理引擎，确保高并发下的稳定性和低延迟；\\n3.负责开发对话记忆管理系统，实现对话历史的智能存储与上下文关联分析，提升多轮交互的语义连贯性。'), Document(id='823726fc-dfb0-4a53-8209-b1baba3d5c96', metadata={'source': './jobs.csv', 'row': 5, 'start_index': 0}, page_content='\\ufeffcompany_name: 追觅科技\\njob_title: 深度学习C++部署工程师\\nbase: 苏州\\njob_desc: 1. 负责深度学习模型在端侧设备上的部署与优化，特别是在NPU（神经处理单元）上的部署优化。\\n2.从事CV模型在不同平台上的工程化设计、实现与加速、系统集成与工程化落地；\\n3.分析并优化模型的推理速度和精度\\n4. 与跨职能团队合作，理解系统需求，提供技术支持和解决方案。\\n\\n任职要求：\\n1、擅长c/c++编程，熟悉python，熟悉opencv\\n2、熟练掌握Pytorch/MNN/NCNN等至少一种深度学习框架，对深度学习模型有一定了解；\\n3、有实际的深度学习模型部署、优化及网络结构优化、内存优化经验加分；\\n4、有实际CV深度学习项目开发经历'), Document(id='b2aadbec-87c3-4716-b73d-65608cec98fc', metadata={'source': './jobs.csv', 'row': 0, 'start_index': 0}, page_content='\\ufeffcompany_name: 深圳深度商智科技\\njob_title: AI智能体工程师\\nbase: 深圳\\njob_desc: AI智能体工程师招聘岗位说明\\n \\n岗位职责\\n \\n1.?智能体设计与开发：负责AI智能体的整体架构设计与核心算法开发，根据不同的业务场景和需求，运用机器学习、强化学习等技术，打造具备自主决策、任务执行能力的智能体。例如，开发用于客户服务场景的智能聊天体，能理解客户问题并精准回应；或是构建智能物流调度体，优化物流配送路径。\\n2.?模型训练与优化：收集和整理相关数据，运用大数据处理技术和工具进行数据预处理，使用深度学习框架（如TensorFlow、PyTorch）对智能体模型进行训练。通过不断调整模型参数、改进算法，提升智能体的性能表现，包括准确性、响应速度、泛化能力等。例如，降低智能体在语言理解任务中的错误率，提升其在复杂环境下的决策成功率。\\n3.?与多模态融合：探索并实现AI智能体与图像、语音、文本等多模态数据的融合应用，使智能体能够理解和处理多种形式的信息，增强其交互能力和功能多样性。比如，开发能同时识别语音指令和手势动作的智能体，为用户提供更便捷的交互体验。\\n4.?智能体评估与测试：建立科学合理的评估指标体系，对开发完成的AI智能体进行全面测试和评估，及时发现并解决存在的问题。通过模拟真实场景和用户行为，对智能体的稳定性、可靠性、安全性等进行验证，确保其满足实际业务需求和质量标准。\\n5.?技术协作与创新：与公司内的算法团队、数据团队、产品团队紧密合作，共同推进AI智能体项目的进展。积极关注行业最新技术动态和研究成果，引入创新性的技术和方法，不断优化和升级智能体的功能与性能，保持公司在AI智能体领域的技术领先地位。\\n \\n任职要求\\n \\n1.?教育背景：计算机科学、人工智能、数学、统计学等相关专业，硕士及以上学历优先。\\n2.?工作经验：具有2-5年AI智能体开发或相关领域工作经验，有实际项目经验者优先。\\n3.?技能要求：\\n- 熟练掌握强化学习、深度强化学习算法，如DQN、A3C、PPO等，并在实际项目中应用过。\\n- 熟练掌握至少一种深度学习框架，如TensorFlow、PyTorch等。\\n- 具备扎实的Python编程基础，熟悉常用的数据结构和算法。\\n- 熟悉大数据处理技术和工具，如Hadoop、Spark等，能够进行大规模数据的处理和分析。'), Document(id='c238f5c3-7053-4a15-a9b8-fa8e75cb6d4a', metadata={'source': './jobs.csv', 'row': 1, 'start_index': 0}, page_content='\\ufeffcompany_name: 吉阳智能\\njob_title: 深度学习工程师\\nbase: 深圳\\njob_desc: 岗位职责：\\n? 负责深度学习模型的设计、开发、训练和优化，以解决图像处理、计算机视觉等领域的实际问题。\\n? 探索和应用最新的深度学习技术，提升模型性能和效率。\\n? 参与数据清洗、特征工程、模型评估等环节，保证模型的准确性和可靠性。\\n? 参与项目的需求分析、方案设计和技术选型。\\n? 撰写技术文档，总结研究成果。 \\n任职要求：\\n? 计算机科学、数学、统计学等相关专业本科及以上学历。\\n? 扎实的数学基础，熟悉线性代数、概率论、统计学等知识。\\n? 熟练掌握Python编程语言，熟悉PyTorch、TensorFlow等深度学习框架。\\n? 具备较强的算法设计和实现能力，熟悉常见的深度学习模型（如CNN、RNN、YOLO等），并能根据实际问题选择合适的模型。\\n? 具有丰富的图像处理经验，熟悉图像预处理、特征提取、目标检测、图像分割等技术。\\n? 具有良好的沟通能力和团队协作精神。\\n? 有以下经验者优先： \\no 在图像分类、目标检测、图像分割等领域有实际项目经验。\\no 在预测性维护上有实际的项目经验。\\no 发表过相关领域的论文或参加过相关竞赛。\\no 对开源社区有贡献。\\n能力要求：\\n? 深入的应用理解： 能够将深度学习技术与实际业务场景紧密结合，解决实际问题。\\n? 图像方面的应用场景： 熟悉图像处理、计算机视觉领域常见的任务和挑战，能够针对不同场景设计和优化模型。\\n? 数据上的使用场景： 能够对大规模图像数据进行清洗、预处理、特征工程，并选择合适的模型进行训练和评估。\\n? 快速学习能力： 深度学习领域发展迅速，能够快速掌握新知识和新技术。\\n? 问题解决能力： 能够独立分析问题，找到解决方案，并能将解决方案落地。\\n? 创新能力： 能够提出新的想法和解决方案，推动技术创新。\\n加分项：\\n? 在工厂预测性维护领域上有实际的项目经验。\\n? 熟悉模型部署和服务化')]\n",
      "\n",
      "\n",
      "Answer: 根据提供的招聘信息，以下是相关职位：  \n",
      "1. 高德（北京）招聘“大模型应用开发工程师-Agent方向”，专注于交通领域的Agent开发。  \n",
      "2. 深圳深度商智科技（深圳）招聘“AI智能体工程师”，要求强化学习和多模态融合经验。  \n",
      "招聘信息来源于上下文提供的公司职位描述。\n"
     ]
    }
   ],
   "source": [
    "result = graph.invoke({\"question\": \"我想找有关大模型agent工程师的全职工作，请帮我找出相关招聘信息，并标注招聘信息来源\"})\n",
    "\n",
    "print(f\"Context: {result['context']}\\n\\n\")\n",
    "print(f\"Answer: {result['answer']}\")"
   ]
  },
  {
   "cell_type": "code",
   "execution_count": 44,
   "id": "542e99f7",
   "metadata": {},
   "outputs": [
    {
     "name": "stdout",
     "output_type": "stream",
     "text": [
      "Context: [Document(id='6fd56418-efa9-4dc0-92ed-17e74541e54d', metadata={'source': './jobs.csv', 'row': 10, 'start_index': 0}, page_content='\\ufeffcompany_name: TikTok\\njob_title: 前端开发工程师-TikTok泛架构\\nbase: 深圳\\njob_desc: 职位描述\\n团队介绍：TikTok是一个覆盖150个国家和地区的国际短视频平台，我们希望通过TikTok发现真实、有趣的瞬间，让生活更美好。TikTok 在全球各地设有办公室，全球总部位于洛杉矶和新加坡，办公地点还包括纽约、伦敦、都柏林、巴黎、柏林、迪拜、雅加达、首尔和东京等多个城市。\\n\\nTikTok泛架构团队处于业务和基础架构之间，我们的目标是拥抱AI，构建最先进的业务架构基建，建立公众信任和合规，关注资源管理和成本优化，用户体验和稳定性，提高工程质量和研发效率。在这里你既能感受到技术对上层业务的赋能，又可以提高在架构层面技术深度的理解，期待你的加入！\\n\\n1、参与TikTok业务产品研发，深度参与产品需求讨论，C端和B端的功能构建等；\\n2、参与设计基于前端和全栈的解决方案，核心代码开发、组件抽象以及系统调优等；\\n3、参与系统工程效率和性能优化，提升研发效率以及用户体验；\\n4、调研和学习前端新技术，进行技术分享并在重要项目内落地，参与部门前端和全栈技术建设。\\n职位要求\\n1、2026届获得本科及以上学历，计算机、软件工程等相关专业优先；\\n2、热爱计算机科学，对数据分析、前端架构、渲染和性能等技术有热情；\\n3、精通JavaScript、HTML、CSS，熟悉DOM、HTTP协议等前端领域知识，至少掌握一种主流前端框架（如React/Vue等）；\\n4、有优秀的逻辑分析能力，能够对业务逻辑进行合理的抽象和拆分；\\n5、有强烈的求知欲，优秀的学习能力和沟通能力。'), Document(id='823726fc-dfb0-4a53-8209-b1baba3d5c96', metadata={'source': './jobs.csv', 'row': 5, 'start_index': 0}, page_content='\\ufeffcompany_name: 追觅科技\\njob_title: 深度学习C++部署工程师\\nbase: 苏州\\njob_desc: 1. 负责深度学习模型在端侧设备上的部署与优化，特别是在NPU（神经处理单元）上的部署优化。\\n2.从事CV模型在不同平台上的工程化设计、实现与加速、系统集成与工程化落地；\\n3.分析并优化模型的推理速度和精度\\n4. 与跨职能团队合作，理解系统需求，提供技术支持和解决方案。\\n\\n任职要求：\\n1、擅长c/c++编程，熟悉python，熟悉opencv\\n2、熟练掌握Pytorch/MNN/NCNN等至少一种深度学习框架，对深度学习模型有一定了解；\\n3、有实际的深度学习模型部署、优化及网络结构优化、内存优化经验加分；\\n4、有实际CV深度学习项目开发经历'), Document(id='c238f5c3-7053-4a15-a9b8-fa8e75cb6d4a', metadata={'source': './jobs.csv', 'row': 1, 'start_index': 0}, page_content='\\ufeffcompany_name: 吉阳智能\\njob_title: 深度学习工程师\\nbase: 深圳\\njob_desc: 岗位职责：\\n? 负责深度学习模型的设计、开发、训练和优化，以解决图像处理、计算机视觉等领域的实际问题。\\n? 探索和应用最新的深度学习技术，提升模型性能和效率。\\n? 参与数据清洗、特征工程、模型评估等环节，保证模型的准确性和可靠性。\\n? 参与项目的需求分析、方案设计和技术选型。\\n? 撰写技术文档，总结研究成果。 \\n任职要求：\\n? 计算机科学、数学、统计学等相关专业本科及以上学历。\\n? 扎实的数学基础，熟悉线性代数、概率论、统计学等知识。\\n? 熟练掌握Python编程语言，熟悉PyTorch、TensorFlow等深度学习框架。\\n? 具备较强的算法设计和实现能力，熟悉常见的深度学习模型（如CNN、RNN、YOLO等），并能根据实际问题选择合适的模型。\\n? 具有丰富的图像处理经验，熟悉图像预处理、特征提取、目标检测、图像分割等技术。\\n? 具有良好的沟通能力和团队协作精神。\\n? 有以下经验者优先： \\no 在图像分类、目标检测、图像分割等领域有实际项目经验。\\no 在预测性维护上有实际的项目经验。\\no 发表过相关领域的论文或参加过相关竞赛。\\no 对开源社区有贡献。\\n能力要求：\\n? 深入的应用理解： 能够将深度学习技术与实际业务场景紧密结合，解决实际问题。\\n? 图像方面的应用场景： 熟悉图像处理、计算机视觉领域常见的任务和挑战，能够针对不同场景设计和优化模型。\\n? 数据上的使用场景： 能够对大规模图像数据进行清洗、预处理、特征工程，并选择合适的模型进行训练和评估。\\n? 快速学习能力： 深度学习领域发展迅速，能够快速掌握新知识和新技术。\\n? 问题解决能力： 能够独立分析问题，找到解决方案，并能将解决方案落地。\\n? 创新能力： 能够提出新的想法和解决方案，推动技术创新。\\n加分项：\\n? 在工厂预测性维护领域上有实际的项目经验。\\n? 熟悉模型部署和服务化'), Document(id='584cb91c-ccb5-417e-8860-8d80ef4e230b', metadata={'source': './jobs.csv', 'row': 7, 'start_index': 0}, page_content='\\ufeffcompany_name: 菜鸟\\njob_title: 菜鸟-后端研发工程师-国际寄件产品技术部\\nbase: 杭州\\njob_desc: 职务描述\\n主要负责并参与国际寄件业务AI Agent落地，涵盖全业务流程的智能导购Agent、智能合包Agent、物流托管Agent等多个Agent产品研发，以及Agent基础能力构建、架构性能提升、系统稳定性建设及线上问题应急响应，基于用户历史反馈数据制定优化方案并推动实施；\\n职位要求\\n1. 熟悉java语言，以及常见开发框架使用及原理；\\n2. 计算、存储、网络等计算机体系基本功底扎实；\\n3. 对数据结构、算法设计、系统架构设计等有较为深刻的理解；\\n4. 优秀的分析问题和解决问题的能力，对解决具有挑战性问题充满激情；\\n5. 有AI应用开发和SpringAI、LangChain等框架开发经验的优先。')]\n",
      "\n",
      "\n",
      "Answer: 根据您的Web前端开发经历，我为您推荐以下招聘信息：  \n",
      "1. **TikTok**：招聘前端开发工程师，工作地点深圳，信息来源于TikTok官方招聘。  \n",
      "2. **菜鸟**：招聘后端研发工程师（涉及AI应用开发），工作地点杭州，信息来源于菜鸟官方招聘。  \n",
      "\n",
      "其他职位与您的背景匹配度较低。建议直接访问公司官网或招聘平台获取更多详情。\n"
     ]
    }
   ],
   "source": [
    "result = graph.invoke({\"question\": \"我有一些web前端开发经历，想找一份全职工作，请帮我推荐一些招聘信息，并标注招聘信息来源\"})\n",
    "\n",
    "print(f\"Context: {result['context']}\\n\\n\")\n",
    "print(f\"Answer: {result['answer']}\")"
   ]
  },
  {
   "cell_type": "code",
   "execution_count": null,
   "id": "cd544c97",
   "metadata": {},
   "outputs": [],
   "source": []
  }
 ],
 "metadata": {
  "kernelspec": {
   "display_name": "testenv",
   "language": "python",
   "name": "python3"
  },
  "language_info": {
   "codemirror_mode": {
    "name": "ipython",
    "version": 3
   },
   "file_extension": ".py",
   "mimetype": "text/x-python",
   "name": "python",
   "nbconvert_exporter": "python",
   "pygments_lexer": "ipython3",
   "version": "3.10.18"
  }
 },
 "nbformat": 4,
 "nbformat_minor": 5
}
